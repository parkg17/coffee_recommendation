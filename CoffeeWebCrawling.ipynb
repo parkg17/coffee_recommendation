{
 "cells": [
  {
   "cell_type": "markdown",
   "id": "2c280b24",
   "metadata": {},
   "source": [
    "# Coffee Data Web Crawling Code\n",
    "### Park Gyeol"
   ]
  },
  {
   "cell_type": "code",
   "execution_count": 112,
   "id": "4ea8ea54",
   "metadata": {},
   "outputs": [],
   "source": [
    "from bs4 import BeautifulSoup\n",
    "import pandas as pd\n",
    "import urllib\n",
    "import requests"
   ]
  },
  {
   "cell_type": "code",
   "execution_count": 113,
   "id": "c194901c",
   "metadata": {},
   "outputs": [],
   "source": [
    "coffee_data = pd.DataFrame(\n",
    "    columns = ['GROWING_REGION', 'TREE_VARIETY', 'NAME', 'ROASTER_LOCATION',\n",
    "              'COFFEE_ORIGIN', 'ROAST_LEVEL', 'AGTRON', 'REVIEW_DATE',\n",
    "              'AROMA', 'ACIDITY_STRUCTURE', 'BODY', 'FLAVOR', 'AFTERTASTE']\n",
    ")\n",
    "\n",
    "Growing_Regions = ['region_africa_arabia', 'region_caribbean', 'region_central_america',\n",
    "                   'region_hawaii', 'region_asia_pacific', 'region_south_america']\n",
    "\n",
    "Tree_Varieties = ['tree_variety_geisha', 'tree_variety_bourbon', 'tree_variety_catuai', 'tree_variety_caturra',\n",
    "                  'tree_variety_maragogipe', 'tree_variety_maracaturra', 'tree_variety_mocca-moka', 'tree_variety_pacamara',\n",
    "                 'tree_variety_robusta', 'tree_variety_sl-28-sl-34', 'tree_variety_typica']"
   ]
  },
  {
   "cell_type": "code",
   "execution_count": 102,
   "id": "c67ac0dd",
   "metadata": {},
   "outputs": [
    {
     "name": "stdout",
     "output_type": "stream",
     "text": [
      "success\n"
     ]
    }
   ],
   "source": [
    "site_url = \"https://www.coffeereview.com/advanced-search/\"\n",
    "\n",
    "site_full_url = \"https://www.coffeereview.com/advanced-search/?keyword=&search=Search+Now&locations=all&results=all&\"\n",
    "\n",
    "response = requests.get(site_url, headers={\"User-Agent\": \"Mozilla/5.0\"})\n",
    "\n",
    "if response.status_code == 200:\n",
    "    html = response.text\n",
    "    soup = BeautifulSoup(html, 'html.parser')\n",
    "    print(\"success\")\n",
    "\n",
    "else : \n",
    "    print(response.status_code)"
   ]
  },
  {
   "cell_type": "code",
   "execution_count": 110,
   "id": "f076df0d",
   "metadata": {},
   "outputs": [],
   "source": [
    "index = 0\n",
    "Growing_Region = \"test\"\n",
    "Tree_Variety = \"tree\"\n",
    "\n",
    "content_ancestor = soup.find(attrs={'id':'genesis-content'})\n",
    "content_class_item = content_ancestor.find_all(attrs={'class':'entry-content'})\n",
    "for lst in content_class_item:\n",
    "    url = lst.select('div > div > div.col-2 > p > a')[0]['href']\n",
    "    response = requests.get(url, headers={\"User-Agent\": \"Mozilla/5.0\"})\n",
    "    html = response.text\n",
    "    content_per_page = BeautifulSoup(html, 'html.parser')\n",
    "    \n",
    "    my_content = content_per_page.find(attrs={'class':'review-template'})\n",
    "    tables = my_content.find_all(attrs={'class':'review-template-table'})\n",
    "    tables_left = tables[0].select('tr > td')\n",
    "    tables_right = tables[1].select('tr > td')\n",
    "\n",
    "    Name = my_content.find(attrs={'class':'review-title'}).getText()\n",
    "    Roaster_Location = tables_left[1].getText()\n",
    "    Coffee_Origin = tables_left[3].getText()\n",
    "    Roast_Level = tables_left[5].getText()\n",
    "    Agtron = tables_left[7].getText()\n",
    "    Review_Date = tables_right[1].getText()\n",
    "    Aroma = tables_right[3].getText().strip()\n",
    "    Acidity_Structure = tables_right[5].getText().strip()\n",
    "    Body = tables_right[7].getText().strip()\n",
    "    Flavor = tables_right[9].getText().strip()\n",
    "    Aftertaste = tables_right[11].getText().strip()\n",
    "    coffee_data.loc[index] = [Growing_Region, Tree_Variety, Name, Roaster_Location,\n",
    "                             Coffee_Origin, Roast_Level, Agtron, Review_Date,\n",
    "                             Aroma, Acidity_Structure, Body, Flavor, Aftertaste]\n",
    "    index = index + 1\n",
    "    "
   ]
  },
  {
   "cell_type": "code",
   "execution_count": 119,
   "id": "15dcbad6",
   "metadata": {},
   "outputs": [
    {
     "ename": "IndexError",
     "evalue": "list index out of range",
     "output_type": "error",
     "traceback": [
      "\u001b[1;31m---------------------------------------------------------------------------\u001b[0m",
      "\u001b[1;31mIndexError\u001b[0m                                Traceback (most recent call last)",
      "\u001b[1;32m<ipython-input-119-a795cd9d82ec>\u001b[0m in \u001b[0;36m<module>\u001b[1;34m\u001b[0m\n\u001b[0;32m     34\u001b[0m             \u001b[0mBody\u001b[0m \u001b[1;33m=\u001b[0m \u001b[0mtables_right\u001b[0m\u001b[1;33m[\u001b[0m\u001b[1;36m7\u001b[0m\u001b[1;33m]\u001b[0m\u001b[1;33m.\u001b[0m\u001b[0mgetText\u001b[0m\u001b[1;33m(\u001b[0m\u001b[1;33m)\u001b[0m\u001b[1;33m.\u001b[0m\u001b[0mstrip\u001b[0m\u001b[1;33m(\u001b[0m\u001b[1;33m)\u001b[0m\u001b[1;33m\u001b[0m\u001b[1;33m\u001b[0m\u001b[0m\n\u001b[0;32m     35\u001b[0m             \u001b[0mFlavor\u001b[0m \u001b[1;33m=\u001b[0m \u001b[0mtables_right\u001b[0m\u001b[1;33m[\u001b[0m\u001b[1;36m9\u001b[0m\u001b[1;33m]\u001b[0m\u001b[1;33m.\u001b[0m\u001b[0mgetText\u001b[0m\u001b[1;33m(\u001b[0m\u001b[1;33m)\u001b[0m\u001b[1;33m.\u001b[0m\u001b[0mstrip\u001b[0m\u001b[1;33m(\u001b[0m\u001b[1;33m)\u001b[0m\u001b[1;33m\u001b[0m\u001b[1;33m\u001b[0m\u001b[0m\n\u001b[1;32m---> 36\u001b[1;33m             \u001b[0mAftertaste\u001b[0m \u001b[1;33m=\u001b[0m \u001b[0mtables_right\u001b[0m\u001b[1;33m[\u001b[0m\u001b[1;36m11\u001b[0m\u001b[1;33m]\u001b[0m\u001b[1;33m.\u001b[0m\u001b[0mgetText\u001b[0m\u001b[1;33m(\u001b[0m\u001b[1;33m)\u001b[0m\u001b[1;33m.\u001b[0m\u001b[0mstrip\u001b[0m\u001b[1;33m(\u001b[0m\u001b[1;33m)\u001b[0m\u001b[1;33m\u001b[0m\u001b[1;33m\u001b[0m\u001b[0m\n\u001b[0m\u001b[0;32m     37\u001b[0m             coffee_data.loc[index] = [Growing_Region, Tree_Variety, Name, Roaster_Location,\n\u001b[0;32m     38\u001b[0m                                      \u001b[0mCoffee_Origin\u001b[0m\u001b[1;33m,\u001b[0m \u001b[0mRoast_Level\u001b[0m\u001b[1;33m,\u001b[0m \u001b[0mAgtron\u001b[0m\u001b[1;33m,\u001b[0m \u001b[0mReview_Date\u001b[0m\u001b[1;33m,\u001b[0m\u001b[1;33m\u001b[0m\u001b[1;33m\u001b[0m\u001b[0m\n",
      "\u001b[1;31mIndexError\u001b[0m: list index out of range"
     ]
    }
   ],
   "source": [
    "site_url = \"https://www.coffeereview.com/advanced-search/\"\n",
    "\n",
    "site_full_url = \"https://www.coffeereview.com/advanced-search/?keyword=&search=Search+Now&locations=all&results=all&\"\n",
    "\n",
    "index = 0\n",
    "\n",
    "for Growing_Region in Growing_Regions:\n",
    "    for Tree_Variety in Tree_Varieties:\n",
    "        site_url = site_full_url + Growing_Region + \"=on&\" + Tree_Variety + \"=on\"\n",
    "        response = requests.get(site_url, headers={\"User-Agent\": \"Mozilla/5.0\"})\n",
    "        html = response.text\n",
    "        soup = BeautifulSoup(html, 'html.parser')\n",
    "        content_ancestor = soup.find(attrs={'id':'genesis-content'})\n",
    "        content_class_item = content_ancestor.find_all(attrs={'class':'entry-content'})\n",
    "        for lst in content_class_item:\n",
    "            url = lst.select('div > div > div.col-2 > p > a')[0]['href']\n",
    "            response = requests.get(url, headers={\"User-Agent\": \"Mozilla/5.0\"})\n",
    "            html = response.text\n",
    "            content_per_page = BeautifulSoup(html, 'html.parser')\n",
    "\n",
    "            my_content = content_per_page.find(attrs={'class':'review-template'})\n",
    "            tables = my_content.find_all(attrs={'class':'review-template-table'})\n",
    "            tables_left = tables[0].select('tr > td')\n",
    "            tables_right = tables[1].select('tr > td')\n",
    "\n",
    "            Name = my_content.find(attrs={'class':'review-title'}).getText()\n",
    "            Roaster_Location = tables_left[1].getText()\n",
    "            Coffee_Origin = tables_left[3].getText()\n",
    "            Roast_Level = tables_left[5].getText()\n",
    "            Agtron = tables_left[7].getText()\n",
    "            Review_Date = tables_right[1].getText()\n",
    "            Aroma = tables_right[3].getText().strip()\n",
    "            Acidity_Structure = tables_right[5].getText().strip()\n",
    "            Body = tables_right[7].getText().strip()\n",
    "            Flavor = tables_right[9].getText().strip()\n",
    "            Aftertaste = tables_right[11].getText().strip()\n",
    "            coffee_data.loc[index] = [Growing_Region, Tree_Variety, Name, Roaster_Location,\n",
    "                                     Coffee_Origin, Roast_Level, Agtron, Review_Date,\n",
    "                                     Aroma, Acidity_Structure, Body, Flavor, Aftertaste]\n",
    "            index = index + 1"
   ]
  },
  {
   "cell_type": "code",
   "execution_count": null,
   "id": "0c845246",
   "metadata": {},
   "outputs": [],
   "source": [
    "coffee_data"
   ]
  },
  {
   "cell_type": "code",
   "execution_count": null,
   "id": "4dcc6137",
   "metadata": {},
   "outputs": [],
   "source": [
    "https://www.coffeereview.com/review/ninety-plus-gesha-estates-jbc-custom-lot-252/ \n",
    "이런 것처럼 빵구 있는것도 있어서 [0] [1] 이런식으로 크롤링하면 안될듯~~"
   ]
  }
 ],
 "metadata": {
  "kernelspec": {
   "display_name": "Python 3",
   "language": "python",
   "name": "python3"
  },
  "language_info": {
   "codemirror_mode": {
    "name": "ipython",
    "version": 3
   },
   "file_extension": ".py",
   "mimetype": "text/x-python",
   "name": "python",
   "nbconvert_exporter": "python",
   "pygments_lexer": "ipython3",
   "version": "3.8.8"
  }
 },
 "nbformat": 4,
 "nbformat_minor": 5
}
